{
 "cells": [
  {
   "cell_type": "code",
   "execution_count": 6,
   "metadata": {},
   "outputs": [
    {
     "name": "stdout",
     "output_type": "stream",
     "text": [
      "Progress --  All_경기.csv\n",
      "Progress --  All_경남.csv\n",
      "Progress --  All_경북.csv\n",
      "Progress --  All_광주.csv\n",
      "Progress --  All_대구.csv\n",
      "Progress --  All_대전.csv\n",
      "Progress --  All_부산.csv\n",
      "Progress --  All_서울.csv\n",
      "Progress --  All_세종.csv\n",
      "Progress --  All_울산.csv\n",
      "Progress --  All_인천.csv\n",
      "Progress --  All_전남.csv\n",
      "Progress --  All_전북.csv\n",
      "Progress --  All_충남.csv\n",
      "\n",
      "CSV Merger -- Done\n"
     ]
    }
   ],
   "source": [
    "import csv\n",
    "import glob\n",
    "import os\n",
    "\n",
    "input_path = r'RE'\n",
    "output_path = r'ONE_CSV_OVER.csv'\n",
    "\n",
    "first_file = True\n",
    "for input_file in glob.glob(os.path.join(input_path, 'All_*')):\n",
    "    \n",
    "    print(\"Progress -- \",os.path.basename(input_file)) \n",
    "    \n",
    "    with open(input_file, 'r', newline='') as csv_in_file:\n",
    "        with open(output_path, 'a', newline='') as csv_out_file: \n",
    "            filereader = csv.reader(csv_in_file) \n",
    "            filewriter = csv.writer(csv_out_file)\n",
    "            \n",
    "            if first_file: \n",
    "                for row in filereader:\n",
    "                    filewriter.writerow(row)\n",
    "                first_file = False \n",
    "            \n",
    "            else:\n",
    "                header = next(filereader)\n",
    "                for row in filereader:\n",
    "                    filewriter.writerow(row)\n",
    "           \n",
    "print()\n",
    "print('CSV Merger -- Done')"
   ]
  },
  {
   "cell_type": "code",
   "execution_count": null,
   "metadata": {},
   "outputs": [],
   "source": []
  },
  {
   "cell_type": "code",
   "execution_count": null,
   "metadata": {},
   "outputs": [],
   "source": []
  },
  {
   "cell_type": "code",
   "execution_count": null,
   "metadata": {},
   "outputs": [],
   "source": []
  },
  {
   "cell_type": "code",
   "execution_count": null,
   "metadata": {},
   "outputs": [],
   "source": []
  },
  {
   "cell_type": "code",
   "execution_count": null,
   "metadata": {},
   "outputs": [],
   "source": []
  }
 ],
 "metadata": {
  "kernelspec": {
   "display_name": "Python 3",
   "language": "python",
   "name": "python3"
  },
  "language_info": {
   "codemirror_mode": {
    "name": "ipython",
    "version": 3
   },
   "file_extension": ".py",
   "mimetype": "text/x-python",
   "name": "python",
   "nbconvert_exporter": "python",
   "pygments_lexer": "ipython3",
   "version": "3.7.4"
  }
 },
 "nbformat": 4,
 "nbformat_minor": 2
}
